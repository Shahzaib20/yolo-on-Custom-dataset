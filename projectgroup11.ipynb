{
  "cells": [
    {
      "cell_type": "markdown",
      "metadata": {
        "id": "v50oBxHYen_q"
      },
      "source": [
        "# Implementation of YOLOv7\n",
        "\n",
        "---\n",
        "\n"
      ]
    },
    {
      "cell_type": "markdown",
      "metadata": {
        "id": "hROC42pmbnQ5"
      },
      "source": [
        "## Install Dependencies"
      ]
    },
    {
      "cell_type": "code",
      "execution_count": null,
      "metadata": {
        "colab": {
          "base_uri": "https://localhost:8080/"
        },
        "id": "m9xbfQz1RBvH",
        "outputId": "9e49a704-ca9d-45dd-ad69-dc2dc29d424c"
      },
      "outputs": [
        {
          "output_type": "stream",
          "name": "stdout",
          "text": [
            "Cloning into 'yolov7'...\n",
            "remote: Enumerating objects: 1157, done.\u001b[K\n",
            "remote: Counting objects: 100% (18/18), done.\u001b[K\n",
            "remote: Compressing objects: 100% (10/10), done.\u001b[K\n",
            "remote: Total 1157 (delta 10), reused 15 (delta 8), pack-reused 1139\u001b[K\n",
            "Receiving objects: 100% (1157/1157), 70.41 MiB | 23.52 MiB/s, done.\n",
            "Resolving deltas: 100% (498/498), done.\n",
            "/content/yolov7/yolov7\n",
            "Looking in indexes: https://pypi.org/simple, https://us-python.pkg.dev/colab-wheels/public/simple/\n",
            "Requirement already satisfied: matplotlib>=3.2.2 in /usr/local/lib/python3.10/dist-packages (from -r requirements.txt (line 4)) (3.7.1)\n",
            "Requirement already satisfied: numpy<1.24.0,>=1.18.5 in /usr/local/lib/python3.10/dist-packages (from -r requirements.txt (line 5)) (1.22.4)\n",
            "Requirement already satisfied: opencv-python>=4.1.1 in /usr/local/lib/python3.10/dist-packages (from -r requirements.txt (line 6)) (4.7.0.72)\n",
            "Requirement already satisfied: Pillow>=7.1.2 in /usr/local/lib/python3.10/dist-packages (from -r requirements.txt (line 7)) (8.4.0)\n",
            "Requirement already satisfied: PyYAML>=5.3.1 in /usr/local/lib/python3.10/dist-packages (from -r requirements.txt (line 8)) (6.0)\n",
            "Requirement already satisfied: requests>=2.23.0 in /usr/local/lib/python3.10/dist-packages (from -r requirements.txt (line 9)) (2.27.1)\n",
            "Requirement already satisfied: scipy>=1.4.1 in /usr/local/lib/python3.10/dist-packages (from -r requirements.txt (line 10)) (1.10.1)\n",
            "Requirement already satisfied: torch!=1.12.0,>=1.7.0 in /usr/local/lib/python3.10/dist-packages (from -r requirements.txt (line 11)) (2.0.0+cu118)\n",
            "Requirement already satisfied: torchvision!=0.13.0,>=0.8.1 in /usr/local/lib/python3.10/dist-packages (from -r requirements.txt (line 12)) (0.15.1+cu118)\n",
            "Requirement already satisfied: tqdm>=4.41.0 in /usr/local/lib/python3.10/dist-packages (from -r requirements.txt (line 13)) (4.65.0)\n",
            "Requirement already satisfied: protobuf<4.21.3 in /usr/local/lib/python3.10/dist-packages (from -r requirements.txt (line 14)) (3.20.3)\n",
            "Requirement already satisfied: tensorboard>=2.4.1 in /usr/local/lib/python3.10/dist-packages (from -r requirements.txt (line 17)) (2.12.2)\n",
            "Requirement already satisfied: pandas>=1.1.4 in /usr/local/lib/python3.10/dist-packages (from -r requirements.txt (line 21)) (1.5.3)\n",
            "Requirement already satisfied: seaborn>=0.11.0 in /usr/local/lib/python3.10/dist-packages (from -r requirements.txt (line 22)) (0.12.2)\n",
            "Requirement already satisfied: ipython in /usr/local/lib/python3.10/dist-packages (from -r requirements.txt (line 34)) (7.34.0)\n",
            "Requirement already satisfied: psutil in /usr/local/lib/python3.10/dist-packages (from -r requirements.txt (line 35)) (5.9.5)\n",
            "Requirement already satisfied: thop in /usr/local/lib/python3.10/dist-packages (from -r requirements.txt (line 36)) (0.1.1.post2209072238)\n",
            "Requirement already satisfied: contourpy>=1.0.1 in /usr/local/lib/python3.10/dist-packages (from matplotlib>=3.2.2->-r requirements.txt (line 4)) (1.0.7)\n",
            "Requirement already satisfied: cycler>=0.10 in /usr/local/lib/python3.10/dist-packages (from matplotlib>=3.2.2->-r requirements.txt (line 4)) (0.10.0)\n",
            "Requirement already satisfied: fonttools>=4.22.0 in /usr/local/lib/python3.10/dist-packages (from matplotlib>=3.2.2->-r requirements.txt (line 4)) (4.39.3)\n",
            "Requirement already satisfied: kiwisolver>=1.0.1 in /usr/local/lib/python3.10/dist-packages (from matplotlib>=3.2.2->-r requirements.txt (line 4)) (1.4.4)\n",
            "Requirement already satisfied: packaging>=20.0 in /usr/local/lib/python3.10/dist-packages (from matplotlib>=3.2.2->-r requirements.txt (line 4)) (23.1)\n",
            "Requirement already satisfied: pyparsing>=2.3.1 in /usr/local/lib/python3.10/dist-packages (from matplotlib>=3.2.2->-r requirements.txt (line 4)) (2.4.7)\n",
            "Requirement already satisfied: python-dateutil>=2.7 in /usr/local/lib/python3.10/dist-packages (from matplotlib>=3.2.2->-r requirements.txt (line 4)) (2.8.2)\n",
            "Requirement already satisfied: urllib3<1.27,>=1.21.1 in /usr/local/lib/python3.10/dist-packages (from requests>=2.23.0->-r requirements.txt (line 9)) (1.26.15)\n",
            "Requirement already satisfied: certifi>=2017.4.17 in /usr/local/lib/python3.10/dist-packages (from requests>=2.23.0->-r requirements.txt (line 9)) (2022.12.7)\n",
            "Requirement already satisfied: charset-normalizer~=2.0.0 in /usr/local/lib/python3.10/dist-packages (from requests>=2.23.0->-r requirements.txt (line 9)) (2.0.12)\n",
            "Requirement already satisfied: idna<4,>=2.5 in /usr/local/lib/python3.10/dist-packages (from requests>=2.23.0->-r requirements.txt (line 9)) (2.10)\n",
            "Requirement already satisfied: filelock in /usr/local/lib/python3.10/dist-packages (from torch!=1.12.0,>=1.7.0->-r requirements.txt (line 11)) (3.12.0)\n",
            "Requirement already satisfied: typing-extensions in /usr/local/lib/python3.10/dist-packages (from torch!=1.12.0,>=1.7.0->-r requirements.txt (line 11)) (4.5.0)\n",
            "Requirement already satisfied: sympy in /usr/local/lib/python3.10/dist-packages (from torch!=1.12.0,>=1.7.0->-r requirements.txt (line 11)) (1.11.1)\n",
            "Requirement already satisfied: networkx in /usr/local/lib/python3.10/dist-packages (from torch!=1.12.0,>=1.7.0->-r requirements.txt (line 11)) (3.1)\n",
            "Requirement already satisfied: jinja2 in /usr/local/lib/python3.10/dist-packages (from torch!=1.12.0,>=1.7.0->-r requirements.txt (line 11)) (3.1.2)\n",
            "Requirement already satisfied: triton==2.0.0 in /usr/local/lib/python3.10/dist-packages (from torch!=1.12.0,>=1.7.0->-r requirements.txt (line 11)) (2.0.0)\n",
            "Requirement already satisfied: cmake in /usr/local/lib/python3.10/dist-packages (from triton==2.0.0->torch!=1.12.0,>=1.7.0->-r requirements.txt (line 11)) (3.25.2)\n",
            "Requirement already satisfied: lit in /usr/local/lib/python3.10/dist-packages (from triton==2.0.0->torch!=1.12.0,>=1.7.0->-r requirements.txt (line 11)) (16.0.3)\n",
            "Requirement already satisfied: absl-py>=0.4 in /usr/local/lib/python3.10/dist-packages (from tensorboard>=2.4.1->-r requirements.txt (line 17)) (1.4.0)\n",
            "Requirement already satisfied: grpcio>=1.48.2 in /usr/local/lib/python3.10/dist-packages (from tensorboard>=2.4.1->-r requirements.txt (line 17)) (1.54.0)\n",
            "Requirement already satisfied: google-auth<3,>=1.6.3 in /usr/local/lib/python3.10/dist-packages (from tensorboard>=2.4.1->-r requirements.txt (line 17)) (2.17.3)\n",
            "Requirement already satisfied: google-auth-oauthlib<1.1,>=0.5 in /usr/local/lib/python3.10/dist-packages (from tensorboard>=2.4.1->-r requirements.txt (line 17)) (1.0.0)\n",
            "Requirement already satisfied: markdown>=2.6.8 in /usr/local/lib/python3.10/dist-packages (from tensorboard>=2.4.1->-r requirements.txt (line 17)) (3.4.3)\n",
            "Requirement already satisfied: setuptools>=41.0.0 in /usr/local/lib/python3.10/dist-packages (from tensorboard>=2.4.1->-r requirements.txt (line 17)) (67.7.2)\n",
            "Requirement already satisfied: tensorboard-data-server<0.8.0,>=0.7.0 in /usr/local/lib/python3.10/dist-packages (from tensorboard>=2.4.1->-r requirements.txt (line 17)) (0.7.0)\n",
            "Requirement already satisfied: tensorboard-plugin-wit>=1.6.0 in /usr/local/lib/python3.10/dist-packages (from tensorboard>=2.4.1->-r requirements.txt (line 17)) (1.8.1)\n",
            "Requirement already satisfied: werkzeug>=1.0.1 in /usr/local/lib/python3.10/dist-packages (from tensorboard>=2.4.1->-r requirements.txt (line 17)) (2.3.0)\n",
            "Requirement already satisfied: wheel>=0.26 in /usr/local/lib/python3.10/dist-packages (from tensorboard>=2.4.1->-r requirements.txt (line 17)) (0.40.0)\n",
            "Requirement already satisfied: pytz>=2020.1 in /usr/local/lib/python3.10/dist-packages (from pandas>=1.1.4->-r requirements.txt (line 21)) (2022.7.1)\n",
            "Requirement already satisfied: jedi>=0.16 in /usr/local/lib/python3.10/dist-packages (from ipython->-r requirements.txt (line 34)) (0.18.2)\n",
            "Requirement already satisfied: decorator in /usr/local/lib/python3.10/dist-packages (from ipython->-r requirements.txt (line 34)) (4.4.2)\n",
            "Requirement already satisfied: pickleshare in /usr/local/lib/python3.10/dist-packages (from ipython->-r requirements.txt (line 34)) (0.7.5)\n",
            "Requirement already satisfied: traitlets>=4.2 in /usr/local/lib/python3.10/dist-packages (from ipython->-r requirements.txt (line 34)) (5.7.1)\n",
            "Requirement already satisfied: prompt-toolkit!=3.0.0,!=3.0.1,<3.1.0,>=2.0.0 in /usr/local/lib/python3.10/dist-packages (from ipython->-r requirements.txt (line 34)) (3.0.38)\n",
            "Requirement already satisfied: pygments in /usr/local/lib/python3.10/dist-packages (from ipython->-r requirements.txt (line 34)) (2.14.0)\n",
            "Requirement already satisfied: backcall in /usr/local/lib/python3.10/dist-packages (from ipython->-r requirements.txt (line 34)) (0.2.0)\n",
            "Requirement already satisfied: matplotlib-inline in /usr/local/lib/python3.10/dist-packages (from ipython->-r requirements.txt (line 34)) (0.1.6)\n",
            "Requirement already satisfied: pexpect>4.3 in /usr/local/lib/python3.10/dist-packages (from ipython->-r requirements.txt (line 34)) (4.8.0)\n",
            "Requirement already satisfied: six in /usr/local/lib/python3.10/dist-packages (from cycler>=0.10->matplotlib>=3.2.2->-r requirements.txt (line 4)) (1.16.0)\n",
            "Requirement already satisfied: cachetools<6.0,>=2.0.0 in /usr/local/lib/python3.10/dist-packages (from google-auth<3,>=1.6.3->tensorboard>=2.4.1->-r requirements.txt (line 17)) (5.3.0)\n",
            "Requirement already satisfied: pyasn1-modules>=0.2.1 in /usr/local/lib/python3.10/dist-packages (from google-auth<3,>=1.6.3->tensorboard>=2.4.1->-r requirements.txt (line 17)) (0.3.0)\n",
            "Requirement already satisfied: rsa<5,>=3.1.4 in /usr/local/lib/python3.10/dist-packages (from google-auth<3,>=1.6.3->tensorboard>=2.4.1->-r requirements.txt (line 17)) (4.9)\n",
            "Requirement already satisfied: requests-oauthlib>=0.7.0 in /usr/local/lib/python3.10/dist-packages (from google-auth-oauthlib<1.1,>=0.5->tensorboard>=2.4.1->-r requirements.txt (line 17)) (1.3.1)\n",
            "Requirement already satisfied: parso<0.9.0,>=0.8.0 in /usr/local/lib/python3.10/dist-packages (from jedi>=0.16->ipython->-r requirements.txt (line 34)) (0.8.3)\n",
            "Requirement already satisfied: ptyprocess>=0.5 in /usr/local/lib/python3.10/dist-packages (from pexpect>4.3->ipython->-r requirements.txt (line 34)) (0.7.0)\n",
            "Requirement already satisfied: wcwidth in /usr/local/lib/python3.10/dist-packages (from prompt-toolkit!=3.0.0,!=3.0.1,<3.1.0,>=2.0.0->ipython->-r requirements.txt (line 34)) (0.2.6)\n",
            "Requirement already satisfied: MarkupSafe>=2.1.1 in /usr/local/lib/python3.10/dist-packages (from werkzeug>=1.0.1->tensorboard>=2.4.1->-r requirements.txt (line 17)) (2.1.2)\n",
            "Requirement already satisfied: mpmath>=0.19 in /usr/local/lib/python3.10/dist-packages (from sympy->torch!=1.12.0,>=1.7.0->-r requirements.txt (line 11)) (1.3.0)\n",
            "Requirement already satisfied: pyasn1<0.6.0,>=0.4.6 in /usr/local/lib/python3.10/dist-packages (from pyasn1-modules>=0.2.1->google-auth<3,>=1.6.3->tensorboard>=2.4.1->-r requirements.txt (line 17)) (0.5.0)\n",
            "Requirement already satisfied: oauthlib>=3.0.0 in /usr/local/lib/python3.10/dist-packages (from requests-oauthlib>=0.7.0->google-auth-oauthlib<1.1,>=0.5->tensorboard>=2.4.1->-r requirements.txt (line 17)) (3.2.2)\n"
          ]
        }
      ],
      "source": [
        "# Download YOLOv7 repository and install requirements\n",
        "!git clone https://github.com/WongKinYiu/yolov7\n",
        "%cd yolov7\n",
        "!pip install -r requirements.txt"
      ]
    },
    {
      "cell_type": "markdown",
      "metadata": {
        "id": "g-liFqyycKtx"
      },
      "source": [
        "## Adding Custom Data"
      ]
    },
    {
      "cell_type": "code",
      "execution_count": null,
      "metadata": {
        "colab": {
          "base_uri": "https://localhost:8080/"
        },
        "id": "vqApIOXbbtFl",
        "outputId": "b12149eb-be89-4c6f-e0c2-e06b380ca34f"
      },
      "outputs": [
        {
          "output_type": "stream",
          "name": "stdout",
          "text": [
            "/content\n",
            "loading Roboflow workspace...\n",
            "loading Roboflow project...\n",
            "Downloading Dataset Version Zip in Project_Group11-3 to yolov7pytorch: 91% [100065280 / 109957091] bytes"
          ]
        },
        {
          "output_type": "stream",
          "name": "stderr",
          "text": [
            "Extracting Dataset Version Zip to Project_Group11-3 in yolov7pytorch:: 100%|██████████| 52/52 [00:01<00:00, 48.75it/s]\n"
          ]
        }
      ],
      "source": [
        "\n",
        "%cd /content\n",
        "\n",
        "!pip install roboflow>=1.0.1\n",
        "\n",
        "from roboflow import Roboflow\n",
        "rf = Roboflow(api_key=\"jGHra0EJd58vh4Nk7ItG\")\n",
        "project = rf.workspace(\"nust-nsznm\").project(\"project_group11\")\n",
        "dataset = project.version(3).download(\"yolov7\")\n"
      ]
    },
    {
      "cell_type": "markdown",
      "metadata": {
        "id": "w0uNc0YclBNT"
      },
      "source": [
        "## Prepare image path in txt file"
      ]
    },
    {
      "cell_type": "code",
      "execution_count": null,
      "metadata": {
        "id": "SeHI6iK7dojL"
      },
      "outputs": [],
      "source": [
        "import os\n"
      ]
    },
    {
      "cell_type": "code",
      "execution_count": null,
      "metadata": {
        "id": "FVvod0UTfAwX"
      },
      "outputs": [],
      "source": [
        "train_img_path = \"/content/Project_Group11-3/train/images\"\n",
        "val_img_path = \"/content/Project_Group11-3/valid/images\""
      ]
    },
    {
      "cell_type": "code",
      "execution_count": null,
      "metadata": {
        "colab": {
          "base_uri": "https://localhost:8080/"
        },
        "id": "jby5YZwEf3pk",
        "outputId": "1c8ac251-1ef6-495c-95a9-d4e55e3c75bb"
      },
      "outputs": [
        {
          "output_type": "stream",
          "name": "stdout",
          "text": [
            "/content\n"
          ]
        }
      ],
      "source": [
        "%cd /content"
      ]
    },
    {
      "cell_type": "code",
      "execution_count": null,
      "metadata": {
        "colab": {
          "base_uri": "https://localhost:8080/"
        },
        "id": "vOWZmOXPf8l6",
        "outputId": "c93205b0-9840-4717-e8e4-d4e9d99385d8"
      },
      "outputs": [
        {
          "output_type": "stream",
          "name": "stdout",
          "text": [
            "Done\n"
          ]
        }
      ],
      "source": [
        "#Training images\n",
        "with open('train.txt', \"a+\") as f:\n",
        "  img_list = os.listdir(train_img_path)\n",
        "  for img in img_list:\n",
        "    f.write(os.path.join(train_img_path,img+'\\n'))\n",
        "  print(\"Done\")"
      ]
    },
    {
      "cell_type": "code",
      "execution_count": null,
      "metadata": {
        "id": "WqF2jK45hTJZ"
      },
      "outputs": [],
      "source": [
        "# Validation Image\n",
        "with open('val.txt', \"a+\") as f:\n",
        "  img_list = os.listdir(val_img_path)\n",
        "  for img in img_list:\n",
        "    f.write(os.path.join(val_img_path,img+'\\n'))\n",
        "  print(\"Done\")"
      ]
    },
    {
      "cell_type": "markdown",
      "metadata": {
        "id": "L3gi6cA_m7mD"
      },
      "source": [
        "## Download Pretrained weight"
      ]
    },
    {
      "cell_type": "code",
      "execution_count": null,
      "metadata": {
        "id": "dVDMX0f1l3QW"
      },
      "outputs": [],
      "source": [
        "# download COCO starting checkpoint\n",
        "%cd /content/yolov7\n",
        "!wget \"https://github.com/WongKinYiu/yolov7/releases/download/v0.1/yolov7.pt\""
      ]
    },
    {
      "cell_type": "markdown",
      "metadata": {
        "id": "iL7KsNDlnH8N"
      },
      "source": [
        "## Customize model for your dataset"
      ]
    },
    {
      "cell_type": "code",
      "execution_count": null,
      "metadata": {
        "id": "VG1yNLSlnC6y"
      },
      "outputs": [],
      "source": [
        "%cp /content/yolov7/cfg/training/yolov7.yaml /content/yolov7/cfg/training/custom_yolov7.yaml"
      ]
    },
    {
      "cell_type": "markdown",
      "metadata": {
        "id": "s1knDzmchmXk"
      },
      "source": [
        "\n",
        "\n",
        "1. Open /content/yolov7/cfg/training/custom_yolov7.yaml\n",
        "2. On line#2, change value of nc from 80 to 1 as shown below\n",
        "\n",
        "\n",
        "\n",
        "\n",
        "\n",
        "![Screenshot from 2023-04-04 09-31-18.png](data:image/png;base64,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)\n",
        "\n",
        "\n",
        "\n",
        "\n",
        "3. Open /content/Project_Group11-3/data.yaml\n",
        "4. Change the train, val and test paths as shown below\n",
        "\n",
        "\n",
        "![image.png](data:image/png;base64,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)"
      ]
    },
    {
      "cell_type": "markdown",
      "metadata": {
        "id": "iamZ0yeonzaW"
      },
      "source": [
        "## Begin Training"
      ]
    },
    {
      "cell_type": "code",
      "execution_count": null,
      "metadata": {
        "id": "BJ9hT88wnVyK"
      },
      "outputs": [],
      "source": [
        "%cd /content/yolov7\n",
        "!python train.py --batch 4 --cfg cfg/training/custom_yolov7.yaml --epochs 20 --data /content/Project_Group11-3/data.yaml --weights 'yolov7.pt' --device 0\n"
      ]
    },
    {
      "cell_type": "markdown",
      "metadata": {
        "id": "6L-qWG8kpHDS"
      },
      "source": [
        "## Evaluation"
      ]
    },
    {
      "cell_type": "code",
      "execution_count": null,
      "metadata": {
        "id": "4IXe7CoBn_8u"
      },
      "outputs": [],
      "source": [
        "# Run test.py\n",
        "!python test.py --weights /content/yolov7/runs/train/exp/weights/best.pt  --task test --data /content/Project_Group11-3/data.yaml"
      ]
    },
    {
      "cell_type": "markdown",
      "metadata": {
        "id": "egy_JqNF8zWL"
      },
      "source": [
        "## Inference"
      ]
    },
    {
      "cell_type": "code",
      "execution_count": null,
      "metadata": {
        "id": "PTN25yE_6sbD"
      },
      "outputs": [],
      "source": [
        "!python detect.py --weights /content/yolov7/runs/train/exp/weights/best.pt --source /content/Project_Group11-3/test/images"
      ]
    },
    {
      "cell_type": "code",
      "execution_count": null,
      "metadata": {
        "id": "3E16_iaiphS0"
      },
      "outputs": [],
      "source": [
        "#display inference on ALL infered images\n",
        "\n",
        "import glob\n",
        "from IPython.display import Image, display\n",
        "\n",
        "i = 0\n",
        "limit = 10000 # max images to print\n",
        "for imageName in glob.glob('/content/yolov7/runs/detect/exp2/*.jpg'): #assuming JPG\n",
        "    if i < limit:\n",
        "      display(Image(filename=imageName))\n",
        "      print(\"\\n\")\n",
        "    i = i + 1"
      ]
    },
    {
      "cell_type": "code",
      "execution_count": null,
      "metadata": {
        "id": "NkHUcYv4wHZZ"
      },
      "outputs": [],
      "source": [
        "# optional, zip to download weights and results locally\n",
        "# To deploy, you'll need to export your weights and save them to use later.\n",
        "!zip -r export.zip runs/detect\n",
        "!zip -r export.zip runs/train/exp/weights/best.pt\n",
        "!zip export.zip runs/train/exp/*"
      ]
    }
  ],
  "metadata": {
    "accelerator": "GPU",
    "colab": {
      "provenance": []
    },
    "gpuClass": "standard",
    "kernelspec": {
      "display_name": "Python 3",
      "name": "python3"
    },
    "language_info": {
      "name": "python"
    }
  },
  "nbformat": 4,
  "nbformat_minor": 0
}